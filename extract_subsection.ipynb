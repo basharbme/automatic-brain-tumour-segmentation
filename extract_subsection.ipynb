{
 "metadata": {
  "language_info": {
   "codemirror_mode": {
    "name": "ipython",
    "version": 3
   },
   "file_extension": ".py",
   "mimetype": "text/x-python",
   "name": "python",
   "nbconvert_exporter": "python",
   "pygments_lexer": "ipython3",
   "version": "3.7.7-final"
  },
  "orig_nbformat": 2,
  "kernelspec": {
   "name": "python_defaultSpec_1597883419526",
   "display_name": "Python 3.7.7 64-bit ('tf-learning': conda)"
  }
 },
 "nbformat": 4,
 "nbformat_minor": 2,
 "cells": [
  {
   "cell_type": "markdown",
   "metadata": {},
   "source": [
    "## Extract a sub-section\n",
    "The reason for this is that training on a full MRI scan would be too memory intensive to be practical. "
   ]
  },
  {
   "cell_type": "code",
   "execution_count": 1,
   "metadata": {},
   "outputs": [],
   "source": [
    "import numpy as np\n",
    "import tensorflow.keras as keras\n",
    "import pandas as pd"
   ]
  },
  {
   "cell_type": "code",
   "execution_count": 2,
   "metadata": {},
   "outputs": [
    {
     "output_type": "execute_result",
     "data": {
      "text/plain": "array([10, 11, 12, 13, 14, 15])"
     },
     "metadata": {},
     "execution_count": 2
    }
   ],
   "source": [
    "# simple one dimensional \"image\" to extract from\n",
    "image = np.array([10,11,12,13,14,15])\n",
    "image"
   ]
  },
  {
   "cell_type": "code",
   "execution_count": 3,
   "metadata": {},
   "outputs": [
    {
     "output_type": "execute_result",
     "data": {
      "text/plain": "6"
     },
     "metadata": {},
     "execution_count": 3
    }
   ],
   "source": [
    "# Compute the dimensions \"image\"\n",
    "image_length = image.shape[0]\n",
    "image_length"
   ]
  },
  {
   "cell_type": "markdown",
   "metadata": {},
   "source": [
    "## Sub-sections\n",
    "Define a \"patch size\" in three dimensions, that will be the size of the sub-section we want to extract. Here, we only need to define a patch size in one dimension."
   ]
  },
  {
   "cell_type": "code",
   "execution_count": 4,
   "metadata": {},
   "outputs": [],
   "source": [
    "# patch length, which will be the size of your extracted sub-section\n",
    "patch_length = 3"
   ]
  },
  {
   "cell_type": "markdown",
   "metadata": {},
   "source": [
    "To extract a patch of length patch_length we will first define an index at which to start the patch.\n"
   ]
  },
  {
   "cell_type": "code",
   "execution_count": 5,
   "metadata": {},
   "outputs": [],
   "source": [
    "# start index\n",
    "start_i = 0"
   ]
  },
  {
   "cell_type": "code",
   "execution_count": 6,
   "metadata": {
    "tags": []
   },
   "outputs": [
    {
     "output_type": "stream",
     "name": "stdout",
     "text": "start index 0\nend index 3\noutput patch length:  3\noutput patch array:  [10 11 12]\n"
    }
   ],
   "source": [
    "# An end index given your start index and patch size\n",
    "print(f\"start index {start_i}\")\n",
    "end_i = start_i + patch_length\n",
    "print(f\"end index {end_i}\")\n",
    "\n",
    "# Extract a sub-section from your \"image\"\n",
    "sub_section = image[start_i: end_i]\n",
    "print(\"output patch length: \", len(sub_section))\n",
    "print(\"output patch array: \", sub_section)\n",
    "\n",
    "# Add one to your start index\n",
    "start_i +=1"
   ]
  },
  {
   "cell_type": "markdown",
   "metadata": {},
   "source": [
    "Neural network will be expecting a particular sub-section size and will not accept inputs of other dimensions. For the start indices, we will be randomly choosing values and we need to ensure that your random number generator is set up to avoid the edges of  image object.\n"
   ]
  },
  {
   "cell_type": "code",
   "execution_count": 7,
   "metadata": {
    "tags": []
   },
   "outputs": [
    {
     "output_type": "stream",
     "name": "stdout",
     "text": "start index 3\nend index 6\noutput patch array:  [13 14 15]\n"
    }
   ],
   "source": [
    "# start index to 3 to extract a valid patch\n",
    "start_i = 3\n",
    "print(f\"start index {start_i}\")\n",
    "end_i = start_i + patch_length\n",
    "print(f\"end index {end_i}\")\n",
    "sub_section = image[start_i: end_i]\n",
    "print(\"output patch array: \", sub_section)"
   ]
  },
  {
   "cell_type": "code",
   "execution_count": 9,
   "metadata": {
    "tags": []
   },
   "outputs": [
    {
     "output_type": "stream",
     "name": "stdout",
     "text": "The largest start index for which a sub section is still valid is 3\n"
    }
   ],
   "source": [
    "#print the largest valid value for start index\n",
    "print(f\"The largest start index for which \"\n",
    "      f\"a sub section is still valid is \"\n",
    "      f\"{image_length - patch_length}\")"
   ]
  },
  {
   "cell_type": "code",
   "execution_count": 10,
   "metadata": {
    "tags": []
   },
   "outputs": [
    {
     "output_type": "stream",
     "name": "stdout",
     "text": "The range of valid start indices is:\n[0, 1, 2, 3]\n"
    }
   ],
   "source": [
    "# print the range of valid start indices\n",
    "print(f\"The range of valid start indices is:\")\n",
    "\n",
    "# Compute valid start indices, note the range() function excludes the upper bound\n",
    "valid_start_i = [i for i in range(image_length - patch_length + 1)]\n",
    "print(valid_start_i)"
   ]
  },
  {
   "cell_type": "markdown",
   "metadata": {},
   "source": [
    "## Random selection of start indices\n",
    "we need to randomly select a valid integer for the start index in each of three dimensions. The way to do this is by following the logic above to identify valid start indices and then selecting randomly from that range of valid numbers.\n"
   ]
  },
  {
   "cell_type": "code",
   "execution_count": 11,
   "metadata": {
    "tags": []
   },
   "outputs": [
    {
     "output_type": "stream",
     "name": "stdout",
     "text": "randomly selected start index 3\n"
    }
   ],
   "source": [
    "#  random start index,np.random.randint() function excludes the upper bound.\n",
    "start_i = np.random.randint(image_length - patch_length + 1)\n",
    "print(f\"randomly selected start index {start_i}\")"
   ]
  },
  {
   "cell_type": "code",
   "execution_count": 12,
   "metadata": {
    "tags": []
   },
   "outputs": [
    {
     "output_type": "stream",
     "name": "stdout",
     "text": "randomly selected start index 0\nrandomly selected start index 2\nrandomly selected start index 1\nrandomly selected start index 0\nrandomly selected start index 0\nrandomly selected start index 1\nrandomly selected start index 2\nrandomly selected start index 3\nrandomly selected start index 1\nrandomly selected start index 1\n"
    }
   ],
   "source": [
    "# Randomly select multiple start indices in a loop\n",
    "for _ in range(10):\n",
    "    start_i = np.random.randint(image_length - patch_length + 1)\n",
    "    print(f\"randomly selected start index {start_i}\")"
   ]
  },
  {
   "cell_type": "markdown",
   "metadata": {},
   "source": [
    "## Background Ratio\n",
    "Another thing  is to compute the ratio of background to edema and tumorous regions. We will be having MRIs with following categories:\n",
    "\n",
    "0: background\n",
    "1: edema\n",
    "2: non-enhancing tumor\n",
    "3: enhancing tumor"
   ]
  },
  {
   "cell_type": "code",
   "execution_count": 15,
   "metadata": {
    "tags": []
   },
   "outputs": [
    {
     "output_type": "stream",
     "name": "stdout",
     "text": "using np.count_nonzero():  0.1875\nusing np.where():  0.1875\n"
    }
   ],
   "source": [
    "# A straightforward approach to get the background ratio is\n",
    "# to count the number of 0's and divide by the patch length\n",
    "patch_labels = np.random.randint(0,4, (16))\n",
    "\n",
    "bgrd_ratio = np.count_nonzero(patch_labels == 0) / len(patch_labels)\n",
    "print(\"using np.count_nonzero(): \", bgrd_ratio)\n",
    "\n",
    "bgrd_ratio = len(np.where(patch_labels == 0)[0]) / len(patch_labels)\n",
    "print(\"using np.where(): \", bgrd_ratio)"
   ]
  },
  {
   "cell_type": "code",
   "execution_count": 16,
   "metadata": {
    "tags": []
   },
   "outputs": [
    {
     "output_type": "stream",
     "name": "stdout",
     "text": "[[0. 1. 0. 0.]\n [0. 0. 0. 1.]\n [0. 1. 0. 0.]\n [0. 0. 0. 1.]\n [0. 1. 0. 0.]\n [0. 0. 1. 0.]\n [1. 0. 0. 0.]\n [0. 1. 0. 0.]\n [0. 0. 0. 1.]\n [0. 0. 0. 1.]\n [1. 0. 0. 0.]\n [0. 0. 1. 0.]\n [0. 0. 0. 1.]\n [1. 0. 0. 0.]\n [0. 1. 0. 0.]\n [0. 0. 1. 0.]]\n"
    }
   ],
   "source": [
    "# However, we'll use our label array to train a neural network\n",
    "# so we can opt to compute the ratio a bit later after we do some preprocessing. \n",
    "# First, we convert the label's categories into one-hot format so it can be used to train the model\n",
    "\n",
    "patch_labels_one_hot = keras.utils.to_categorical(patch_labels, num_classes=4)\n",
    "print(patch_labels_one_hot)"
   ]
  },
  {
   "cell_type": "code",
   "execution_count": 17,
   "metadata": {},
   "outputs": [
    {
     "output_type": "execute_result",
     "data": {
      "text/plain": "    background  edema  non-enhancing tumor  enhancing tumor\n0          0.0    1.0                  0.0              0.0\n1          0.0    0.0                  0.0              1.0\n2          0.0    1.0                  0.0              0.0\n3          0.0    0.0                  0.0              1.0\n4          0.0    1.0                  0.0              0.0\n5          0.0    0.0                  1.0              0.0\n6          1.0    0.0                  0.0              0.0\n7          0.0    1.0                  0.0              0.0\n8          0.0    0.0                  0.0              1.0\n9          0.0    0.0                  0.0              1.0\n10         1.0    0.0                  0.0              0.0\n11         0.0    0.0                  1.0              0.0\n12         0.0    0.0                  0.0              1.0\n13         1.0    0.0                  0.0              0.0\n14         0.0    1.0                  0.0              0.0\n15         0.0    0.0                  1.0              0.0",
      "text/html": "<div>\n<style scoped>\n    .dataframe tbody tr th:only-of-type {\n        vertical-align: middle;\n    }\n\n    .dataframe tbody tr th {\n        vertical-align: top;\n    }\n\n    .dataframe thead th {\n        text-align: right;\n    }\n</style>\n<table border=\"1\" class=\"dataframe\">\n  <thead>\n    <tr style=\"text-align: right;\">\n      <th></th>\n      <th>background</th>\n      <th>edema</th>\n      <th>non-enhancing tumor</th>\n      <th>enhancing tumor</th>\n    </tr>\n  </thead>\n  <tbody>\n    <tr>\n      <th>0</th>\n      <td>0.0</td>\n      <td>1.0</td>\n      <td>0.0</td>\n      <td>0.0</td>\n    </tr>\n    <tr>\n      <th>1</th>\n      <td>0.0</td>\n      <td>0.0</td>\n      <td>0.0</td>\n      <td>1.0</td>\n    </tr>\n    <tr>\n      <th>2</th>\n      <td>0.0</td>\n      <td>1.0</td>\n      <td>0.0</td>\n      <td>0.0</td>\n    </tr>\n    <tr>\n      <th>3</th>\n      <td>0.0</td>\n      <td>0.0</td>\n      <td>0.0</td>\n      <td>1.0</td>\n    </tr>\n    <tr>\n      <th>4</th>\n      <td>0.0</td>\n      <td>1.0</td>\n      <td>0.0</td>\n      <td>0.0</td>\n    </tr>\n    <tr>\n      <th>5</th>\n      <td>0.0</td>\n      <td>0.0</td>\n      <td>1.0</td>\n      <td>0.0</td>\n    </tr>\n    <tr>\n      <th>6</th>\n      <td>1.0</td>\n      <td>0.0</td>\n      <td>0.0</td>\n      <td>0.0</td>\n    </tr>\n    <tr>\n      <th>7</th>\n      <td>0.0</td>\n      <td>1.0</td>\n      <td>0.0</td>\n      <td>0.0</td>\n    </tr>\n    <tr>\n      <th>8</th>\n      <td>0.0</td>\n      <td>0.0</td>\n      <td>0.0</td>\n      <td>1.0</td>\n    </tr>\n    <tr>\n      <th>9</th>\n      <td>0.0</td>\n      <td>0.0</td>\n      <td>0.0</td>\n      <td>1.0</td>\n    </tr>\n    <tr>\n      <th>10</th>\n      <td>1.0</td>\n      <td>0.0</td>\n      <td>0.0</td>\n      <td>0.0</td>\n    </tr>\n    <tr>\n      <th>11</th>\n      <td>0.0</td>\n      <td>0.0</td>\n      <td>1.0</td>\n      <td>0.0</td>\n    </tr>\n    <tr>\n      <th>12</th>\n      <td>0.0</td>\n      <td>0.0</td>\n      <td>0.0</td>\n      <td>1.0</td>\n    </tr>\n    <tr>\n      <th>13</th>\n      <td>1.0</td>\n      <td>0.0</td>\n      <td>0.0</td>\n      <td>0.0</td>\n    </tr>\n    <tr>\n      <th>14</th>\n      <td>0.0</td>\n      <td>1.0</td>\n      <td>0.0</td>\n      <td>0.0</td>\n    </tr>\n    <tr>\n      <th>15</th>\n      <td>0.0</td>\n      <td>0.0</td>\n      <td>1.0</td>\n      <td>0.0</td>\n    </tr>\n  </tbody>\n</table>\n</div>"
     },
     "metadata": {},
     "execution_count": 17
    }
   ],
   "source": [
    "\n",
    "\n",
    "pd.DataFrame(patch_labels_one_hot, columns=['background', 'edema', 'non-enhancing tumor', 'enhancing tumor'])"
   ]
  },
  {
   "cell_type": "code",
   "execution_count": 18,
   "metadata": {
    "tags": []
   },
   "outputs": [
    {
     "output_type": "stream",
     "name": "stdout",
     "text": "background column:  [0. 0. 0. 0. 0. 0. 1. 0. 0. 0. 1. 0. 0. 1. 0. 0.]\n"
    }
   ],
   "source": [
    "# What we're interested in is the first column because that \n",
    "# indicates if the element is part of the background\n",
    "# In this case, 1 = background, 0 = non-background\n",
    "\n",
    "print(\"background column: \", patch_labels_one_hot[:,0])"
   ]
  },
  {
   "cell_type": "code",
   "execution_count": 19,
   "metadata": {
    "tags": []
   },
   "outputs": [
    {
     "output_type": "stream",
     "name": "stdout",
     "text": "using one-hot column:  0.1875\n"
    }
   ],
   "source": [
    "# we can compute the background ratio by counting the number of 1's \n",
    "# in the said column divided by the length of the patch\n",
    "\n",
    "bgrd_ratio = np.sum(patch_labels_one_hot[:,0])/ len(patch_labels)\n",
    "print(\"using one-hot column: \", bgrd_ratio)"
   ]
  },
  {
   "cell_type": "markdown",
   "metadata": {},
   "source": [
    "# Now we will build U-Net model our project "
   ]
  },
  {
   "cell_type": "code",
   "execution_count": null,
   "metadata": {},
   "outputs": [],
   "source": []
  }
 ]
}